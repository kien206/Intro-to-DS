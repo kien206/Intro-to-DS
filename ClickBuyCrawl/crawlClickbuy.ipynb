{
 "cells": [
  {
   "cell_type": "code",
   "execution_count": 6,
   "metadata": {},
   "outputs": [],
   "source": [
    "import pandas as pd\n",
    "df=pd.read_csv(\"Clickbuy.csv\")\n"
   ]
  },
  {
   "cell_type": "code",
   "execution_count": 11,
   "metadata": {},
   "outputs": [
    {
     "data": {
      "text/plain": [
       "Index(['Hãng', 'Kích thước màn hình', 'Kích thước, trọng lượng',\n",
       "       'Tình trạng máy', 'Nhà sản xuất', 'Độ phân giải', 'Camera phụ',\n",
       "       'Kích thước', 'hỗ trợ mạng', 'Hãng sản xuất', 'Thương hiệu', 'Chipset',\n",
       "       'name', 'Bộ nhớ trong', 'Thương hiệu sản phẩm', 'Camera chính',\n",
       "       'Màu sắc', 'Tình trạng sản phẩm', 'Màn hình ngoài', 'Thẻ nhớ',\n",
       "       'Công nghệ màn hình', 'CPU', 'Màn Hinh Phụ', 'Khả năng kết nối',\n",
       "       'Sạc nhanh', 'Hệ điều hành', 'Loại CPU', 'Độ phân giải màn hình',\n",
       "       'Tình trạng SP', 'Công nghệ sạc', 'price', 'Màn hình', 'RAM',\n",
       "       'Tính năng màn hình', 'Thẻ sim', 'Camera ngoài', 'Phụ kiện đi kèm',\n",
       "       'Dung lượng pin', 'GPU'],\n",
       "      dtype='object')"
      ]
     },
     "execution_count": 11,
     "metadata": {},
     "output_type": "execute_result"
    }
   ],
   "source": [
    "df.columns"
   ]
  }
 ],
 "metadata": {
  "kernelspec": {
   "display_name": "Python 3",
   "language": "python",
   "name": "python3"
  },
  "language_info": {
   "codemirror_mode": {
    "name": "ipython",
    "version": 3
   },
   "file_extension": ".py",
   "mimetype": "text/x-python",
   "name": "python",
   "nbconvert_exporter": "python",
   "pygments_lexer": "ipython3",
   "version": "3.10.5"
  }
 },
 "nbformat": 4,
 "nbformat_minor": 2
}
