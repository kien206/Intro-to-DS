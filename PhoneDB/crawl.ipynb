{
 "cells": [
  {
   "cell_type": "code",
   "execution_count": 27,
   "metadata": {},
   "outputs": [
    {
     "ename": "ParserError",
     "evalue": "Error tokenizing data. C error: Expected 127 fields in line 8, saw 131\n",
     "output_type": "error",
     "traceback": [
      "\u001b[1;31m---------------------------------------------------------------------------\u001b[0m",
      "\u001b[1;31mParserError\u001b[0m                               Traceback (most recent call last)",
      "\u001b[1;32mg:\\HUST\\class_code\\DS\\Intro-to-DS\\PhoneDB\\crawl.ipynb Cell 1\u001b[0m line \u001b[0;36m2\n\u001b[0;32m      <a href='vscode-notebook-cell:/g%3A/HUST/class_code/DS/Intro-to-DS/PhoneDB/crawl.ipynb#W0sZmlsZQ%3D%3D?line=0'>1</a>\u001b[0m \u001b[39mimport\u001b[39;00m \u001b[39mpandas\u001b[39;00m \u001b[39mas\u001b[39;00m \u001b[39mpd\u001b[39;00m\n\u001b[1;32m----> <a href='vscode-notebook-cell:/g%3A/HUST/class_code/DS/Intro-to-DS/PhoneDB/crawl.ipynb#W0sZmlsZQ%3D%3D?line=1'>2</a>\u001b[0m df\u001b[39m=\u001b[39mpd\u001b[39m.\u001b[39;49mread_csv(\u001b[39m\"\u001b[39;49m\u001b[39mPhoneDatabase.csv\u001b[39;49m\u001b[39m\"\u001b[39;49m)\n\u001b[0;32m      <a href='vscode-notebook-cell:/g%3A/HUST/class_code/DS/Intro-to-DS/PhoneDB/crawl.ipynb#W0sZmlsZQ%3D%3D?line=2'>3</a>\u001b[0m df\n",
      "File \u001b[1;32mc:\\Users\\ADMIN\\AppData\\Local\\Programs\\Python\\Python310\\lib\\site-packages\\pandas\\util\\_decorators.py:211\u001b[0m, in \u001b[0;36mdeprecate_kwarg.<locals>._deprecate_kwarg.<locals>.wrapper\u001b[1;34m(*args, **kwargs)\u001b[0m\n\u001b[0;32m    209\u001b[0m     \u001b[39melse\u001b[39;00m:\n\u001b[0;32m    210\u001b[0m         kwargs[new_arg_name] \u001b[39m=\u001b[39m new_arg_value\n\u001b[1;32m--> 211\u001b[0m \u001b[39mreturn\u001b[39;00m func(\u001b[39m*\u001b[39margs, \u001b[39m*\u001b[39m\u001b[39m*\u001b[39mkwargs)\n",
      "File \u001b[1;32mc:\\Users\\ADMIN\\AppData\\Local\\Programs\\Python\\Python310\\lib\\site-packages\\pandas\\util\\_decorators.py:331\u001b[0m, in \u001b[0;36mdeprecate_nonkeyword_arguments.<locals>.decorate.<locals>.wrapper\u001b[1;34m(*args, **kwargs)\u001b[0m\n\u001b[0;32m    325\u001b[0m \u001b[39mif\u001b[39;00m \u001b[39mlen\u001b[39m(args) \u001b[39m>\u001b[39m num_allow_args:\n\u001b[0;32m    326\u001b[0m     warnings\u001b[39m.\u001b[39mwarn(\n\u001b[0;32m    327\u001b[0m         msg\u001b[39m.\u001b[39mformat(arguments\u001b[39m=\u001b[39m_format_argument_list(allow_args)),\n\u001b[0;32m    328\u001b[0m         \u001b[39mFutureWarning\u001b[39;00m,\n\u001b[0;32m    329\u001b[0m         stacklevel\u001b[39m=\u001b[39mfind_stack_level(),\n\u001b[0;32m    330\u001b[0m     )\n\u001b[1;32m--> 331\u001b[0m \u001b[39mreturn\u001b[39;00m func(\u001b[39m*\u001b[39margs, \u001b[39m*\u001b[39m\u001b[39m*\u001b[39mkwargs)\n",
      "File \u001b[1;32mc:\\Users\\ADMIN\\AppData\\Local\\Programs\\Python\\Python310\\lib\\site-packages\\pandas\\io\\parsers\\readers.py:950\u001b[0m, in \u001b[0;36mread_csv\u001b[1;34m(filepath_or_buffer, sep, delimiter, header, names, index_col, usecols, squeeze, prefix, mangle_dupe_cols, dtype, engine, converters, true_values, false_values, skipinitialspace, skiprows, skipfooter, nrows, na_values, keep_default_na, na_filter, verbose, skip_blank_lines, parse_dates, infer_datetime_format, keep_date_col, date_parser, dayfirst, cache_dates, iterator, chunksize, compression, thousands, decimal, lineterminator, quotechar, quoting, doublequote, escapechar, comment, encoding, encoding_errors, dialect, error_bad_lines, warn_bad_lines, on_bad_lines, delim_whitespace, low_memory, memory_map, float_precision, storage_options)\u001b[0m\n\u001b[0;32m    935\u001b[0m kwds_defaults \u001b[39m=\u001b[39m _refine_defaults_read(\n\u001b[0;32m    936\u001b[0m     dialect,\n\u001b[0;32m    937\u001b[0m     delimiter,\n\u001b[1;32m   (...)\u001b[0m\n\u001b[0;32m    946\u001b[0m     defaults\u001b[39m=\u001b[39m{\u001b[39m\"\u001b[39m\u001b[39mdelimiter\u001b[39m\u001b[39m\"\u001b[39m: \u001b[39m\"\u001b[39m\u001b[39m,\u001b[39m\u001b[39m\"\u001b[39m},\n\u001b[0;32m    947\u001b[0m )\n\u001b[0;32m    948\u001b[0m kwds\u001b[39m.\u001b[39mupdate(kwds_defaults)\n\u001b[1;32m--> 950\u001b[0m \u001b[39mreturn\u001b[39;00m _read(filepath_or_buffer, kwds)\n",
      "File \u001b[1;32mc:\\Users\\ADMIN\\AppData\\Local\\Programs\\Python\\Python310\\lib\\site-packages\\pandas\\io\\parsers\\readers.py:611\u001b[0m, in \u001b[0;36m_read\u001b[1;34m(filepath_or_buffer, kwds)\u001b[0m\n\u001b[0;32m    608\u001b[0m     \u001b[39mreturn\u001b[39;00m parser\n\u001b[0;32m    610\u001b[0m \u001b[39mwith\u001b[39;00m parser:\n\u001b[1;32m--> 611\u001b[0m     \u001b[39mreturn\u001b[39;00m parser\u001b[39m.\u001b[39;49mread(nrows)\n",
      "File \u001b[1;32mc:\\Users\\ADMIN\\AppData\\Local\\Programs\\Python\\Python310\\lib\\site-packages\\pandas\\io\\parsers\\readers.py:1778\u001b[0m, in \u001b[0;36mTextFileReader.read\u001b[1;34m(self, nrows)\u001b[0m\n\u001b[0;32m   1771\u001b[0m nrows \u001b[39m=\u001b[39m validate_integer(\u001b[39m\"\u001b[39m\u001b[39mnrows\u001b[39m\u001b[39m\"\u001b[39m, nrows)\n\u001b[0;32m   1772\u001b[0m \u001b[39mtry\u001b[39;00m:\n\u001b[0;32m   1773\u001b[0m     \u001b[39m# error: \"ParserBase\" has no attribute \"read\"\u001b[39;00m\n\u001b[0;32m   1774\u001b[0m     (\n\u001b[0;32m   1775\u001b[0m         index,\n\u001b[0;32m   1776\u001b[0m         columns,\n\u001b[0;32m   1777\u001b[0m         col_dict,\n\u001b[1;32m-> 1778\u001b[0m     ) \u001b[39m=\u001b[39m \u001b[39mself\u001b[39;49m\u001b[39m.\u001b[39;49m_engine\u001b[39m.\u001b[39;49mread(  \u001b[39m# type: ignore[attr-defined]\u001b[39;49;00m\n\u001b[0;32m   1779\u001b[0m         nrows\n\u001b[0;32m   1780\u001b[0m     )\n\u001b[0;32m   1781\u001b[0m \u001b[39mexcept\u001b[39;00m \u001b[39mException\u001b[39;00m:\n\u001b[0;32m   1782\u001b[0m     \u001b[39mself\u001b[39m\u001b[39m.\u001b[39mclose()\n",
      "File \u001b[1;32mc:\\Users\\ADMIN\\AppData\\Local\\Programs\\Python\\Python310\\lib\\site-packages\\pandas\\io\\parsers\\c_parser_wrapper.py:230\u001b[0m, in \u001b[0;36mCParserWrapper.read\u001b[1;34m(self, nrows)\u001b[0m\n\u001b[0;32m    228\u001b[0m \u001b[39mtry\u001b[39;00m:\n\u001b[0;32m    229\u001b[0m     \u001b[39mif\u001b[39;00m \u001b[39mself\u001b[39m\u001b[39m.\u001b[39mlow_memory:\n\u001b[1;32m--> 230\u001b[0m         chunks \u001b[39m=\u001b[39m \u001b[39mself\u001b[39;49m\u001b[39m.\u001b[39;49m_reader\u001b[39m.\u001b[39;49mread_low_memory(nrows)\n\u001b[0;32m    231\u001b[0m         \u001b[39m# destructive to chunks\u001b[39;00m\n\u001b[0;32m    232\u001b[0m         data \u001b[39m=\u001b[39m _concatenate_chunks(chunks)\n",
      "File \u001b[1;32mc:\\Users\\ADMIN\\AppData\\Local\\Programs\\Python\\Python310\\lib\\site-packages\\pandas\\_libs\\parsers.pyx:808\u001b[0m, in \u001b[0;36mpandas._libs.parsers.TextReader.read_low_memory\u001b[1;34m()\u001b[0m\n",
      "File \u001b[1;32mc:\\Users\\ADMIN\\AppData\\Local\\Programs\\Python\\Python310\\lib\\site-packages\\pandas\\_libs\\parsers.pyx:866\u001b[0m, in \u001b[0;36mpandas._libs.parsers.TextReader._read_rows\u001b[1;34m()\u001b[0m\n",
      "File \u001b[1;32mc:\\Users\\ADMIN\\AppData\\Local\\Programs\\Python\\Python310\\lib\\site-packages\\pandas\\_libs\\parsers.pyx:852\u001b[0m, in \u001b[0;36mpandas._libs.parsers.TextReader._tokenize_rows\u001b[1;34m()\u001b[0m\n",
      "File \u001b[1;32mc:\\Users\\ADMIN\\AppData\\Local\\Programs\\Python\\Python310\\lib\\site-packages\\pandas\\_libs\\parsers.pyx:1973\u001b[0m, in \u001b[0;36mpandas._libs.parsers.raise_parser_error\u001b[1;34m()\u001b[0m\n",
      "\u001b[1;31mParserError\u001b[0m: Error tokenizing data. C error: Expected 127 fields in line 8, saw 131\n"
     ]
    }
   ],
   "source": [
    "import pandas as pd\n",
    "df=pd.read_csv(\"PhoneDatabase.csv\")\n",
    "df"
   ]
  },
  {
   "cell_type": "code",
   "execution_count": 12,
   "metadata": {},
   "outputs": [
    {
     "data": {
      "text/plain": [
       "CNY    1987\n",
       "INR     376\n",
       "MXN     318\n",
       "GBP     249\n",
       "EUR     229\n",
       "RUB     174\n",
       "JPY     142\n",
       "USD     107\n",
       "MYR      87\n",
       "THB      62\n",
       "TWD      55\n",
       "IDR      39\n",
       "AUD      29\n",
       "CAD      29\n",
       "AED       9\n",
       "BRL       3\n",
       "KRW       1\n",
       "Name: currency, dtype: int64"
      ]
     },
     "execution_count": 12,
     "metadata": {},
     "output_type": "execute_result"
    }
   ],
   "source": [
    "df['currency'].value_counts()"
   ]
  },
  {
   "cell_type": "code",
   "execution_count": 25,
   "metadata": {},
   "outputs": [
    {
     "name": "stdout",
     "output_type": "stream",
     "text": [
      "\n",
      "Result DataFrame:\n"
     ]
    },
    {
     "data": {
      "text/html": [
       "<div>\n",
       "<style scoped>\n",
       "    .dataframe tbody tr th:only-of-type {\n",
       "        vertical-align: middle;\n",
       "    }\n",
       "\n",
       "    .dataframe tbody tr th {\n",
       "        vertical-align: top;\n",
       "    }\n",
       "\n",
       "    .dataframe thead th {\n",
       "        text-align: right;\n",
       "    }\n",
       "</style>\n",
       "<table border=\"1\" class=\"dataframe\">\n",
       "  <thead>\n",
       "    <tr style=\"text-align: right;\">\n",
       "      <th></th>\n",
       "      <th>currency</th>\n",
       "      <th>Model</th>\n",
       "      <th>Price</th>\n",
       "    </tr>\n",
       "  </thead>\n",
       "  <tbody>\n",
       "    <tr>\n",
       "      <th>0</th>\n",
       "      <td>AED</td>\n",
       "      <td>SM-A245F/DSN Galaxy A24 4G 2023 Standard Editi...</td>\n",
       "      <td>849.0</td>\n",
       "    </tr>\n",
       "    <tr>\n",
       "      <th>1</th>\n",
       "      <td>AUD</td>\n",
       "      <td>Pad 2 11.6 Standard Edition WiFi 256GB OPD2201</td>\n",
       "      <td>699.0</td>\n",
       "    </tr>\n",
       "    <tr>\n",
       "      <th>2</th>\n",
       "      <td>BRL</td>\n",
       "      <td>SM-A245M/DSN Galaxy A24 4G 2023 Standard Editi...</td>\n",
       "      <td>1599.0</td>\n",
       "    </tr>\n",
       "    <tr>\n",
       "      <th>3</th>\n",
       "      <td>CAD</td>\n",
       "      <td>SM-T638U Galaxy Tab Active4 Pro 5G 10.1 2022 S...</td>\n",
       "      <td>999.0</td>\n",
       "    </tr>\n",
       "    <tr>\n",
       "      <th>4</th>\n",
       "      <td>CNY</td>\n",
       "      <td>20 Infinity 5G Premium Edition Dual SIM TD-LTE...</td>\n",
       "      <td>8499.0</td>\n",
       "    </tr>\n",
       "    <tr>\n",
       "      <th>...</th>\n",
       "      <td>...</td>\n",
       "      <td>...</td>\n",
       "      <td>...</td>\n",
       "    </tr>\n",
       "    <tr>\n",
       "      <th>146</th>\n",
       "      <td>USD</td>\n",
       "      <td>Defy 2 5G NTN Dual SIM TD-LTE NA</td>\n",
       "      <td>599.0</td>\n",
       "    </tr>\n",
       "    <tr>\n",
       "      <th>147</th>\n",
       "      <td>USD</td>\n",
       "      <td>SM-T630 Galaxy Tab Active4 Pro WiFi 10.1 2022 ...</td>\n",
       "      <td>709.0</td>\n",
       "    </tr>\n",
       "    <tr>\n",
       "      <th>148</th>\n",
       "      <td>USD</td>\n",
       "      <td>SM-T630 Galaxy Tab Active4 Pro WiFi 10.1 2022 ...</td>\n",
       "      <td>649.0</td>\n",
       "    </tr>\n",
       "    <tr>\n",
       "      <th>149</th>\n",
       "      <td>USD</td>\n",
       "      <td>SM-T638U Galaxy Tab Active4 Pro 5G 10.1 2022 P...</td>\n",
       "      <td>829.0</td>\n",
       "    </tr>\n",
       "    <tr>\n",
       "      <th>150</th>\n",
       "      <td>USD</td>\n",
       "      <td>XR20 2021 5G Dual SIM TD-LTE AM 128GB</td>\n",
       "      <td>349.0</td>\n",
       "    </tr>\n",
       "  </tbody>\n",
       "</table>\n",
       "<p>151 rows × 3 columns</p>\n",
       "</div>"
      ],
      "text/plain": [
       "    currency                                              Model   Price\n",
       "0        AED  SM-A245F/DSN Galaxy A24 4G 2023 Standard Editi...   849.0\n",
       "1        AUD     Pad 2 11.6 Standard Edition WiFi 256GB OPD2201   699.0\n",
       "2        BRL  SM-A245M/DSN Galaxy A24 4G 2023 Standard Editi...  1599.0\n",
       "3        CAD  SM-T638U Galaxy Tab Active4 Pro 5G 10.1 2022 S...   999.0\n",
       "4        CNY  20 Infinity 5G Premium Edition Dual SIM TD-LTE...  8499.0\n",
       "..       ...                                                ...     ...\n",
       "146      USD                   Defy 2 5G NTN Dual SIM TD-LTE NA   599.0\n",
       "147      USD  SM-T630 Galaxy Tab Active4 Pro WiFi 10.1 2022 ...   709.0\n",
       "148      USD  SM-T630 Galaxy Tab Active4 Pro WiFi 10.1 2022 ...   649.0\n",
       "149      USD  SM-T638U Galaxy Tab Active4 Pro 5G 10.1 2022 P...   829.0\n",
       "150      USD              XR20 2021 5G Dual SIM TD-LTE AM 128GB   349.0\n",
       "\n",
       "[151 rows x 3 columns]"
      ]
     },
     "execution_count": 25,
     "metadata": {},
     "output_type": "execute_result"
    }
   ],
   "source": [
    "grouping_columns = df.columns.difference(['Released', 'Price'])\n",
    "grouped_df = df.groupby(['currency', 'Model'])\n",
    "\n",
    "# Calculate the latest time and mean price for each group\n",
    "result_df = grouped_df.agg({'Price': 'mean'}).reset_index()\n",
    "\n",
    "# Display the result\n",
    "print(\"\\nResult DataFrame:\")\n",
    "result_df\n"
   ]
  },
  {
   "cell_type": "code",
   "execution_count": 20,
   "metadata": {},
   "outputs": [
    {
     "data": {
      "text/html": [
       "<div>\n",
       "<style scoped>\n",
       "    .dataframe tbody tr th:only-of-type {\n",
       "        vertical-align: middle;\n",
       "    }\n",
       "\n",
       "    .dataframe tbody tr th {\n",
       "        vertical-align: top;\n",
       "    }\n",
       "\n",
       "    .dataframe thead th {\n",
       "        text-align: right;\n",
       "    }\n",
       "</style>\n",
       "<table border=\"1\" class=\"dataframe\">\n",
       "  <thead>\n",
       "    <tr style=\"text-align: right;\">\n",
       "      <th></th>\n",
       "      <th>Aux. 2 Camera Number of Pixels</th>\n",
       "      <th>Touchscreen Type</th>\n",
       "      <th>Camera Image Sensor</th>\n",
       "      <th>Aux. 2 Camera Image Sensor</th>\n",
       "      <th>Immersion into liquids (depth limit)</th>\n",
       "      <th>Protection against mechanical impacts</th>\n",
       "      <th>RAM Type</th>\n",
       "      <th>Battery Cells in Parallel</th>\n",
       "      <th>Keyboard</th>\n",
       "      <th>Nominal Battery Voltage</th>\n",
       "      <th>...</th>\n",
       "      <th>Aux. Camera Number of Pixels</th>\n",
       "      <th>Aux. Camera Image Sensor</th>\n",
       "      <th>Secondary Aperture (W)</th>\n",
       "      <th>Military Standard Compliance (MIL-STD)</th>\n",
       "      <th>Nominal Battery Energy</th>\n",
       "      <th>Additional sensors</th>\n",
       "      <th>Resolution</th>\n",
       "      <th>Data Integrity</th>\n",
       "      <th>SAR (head)</th>\n",
       "      <th>Price</th>\n",
       "    </tr>\n",
       "  </thead>\n",
       "  <tbody>\n",
       "  </tbody>\n",
       "</table>\n",
       "<p>0 rows × 136 columns</p>\n",
       "</div>"
      ],
      "text/plain": [
       "Empty DataFrame\n",
       "Columns: [Aux. 2 Camera Number of Pixels, Touchscreen Type, Camera Image Sensor, Aux. 2 Camera Image Sensor, Immersion into liquids (depth limit), Protection against mechanical impacts, RAM Type, Battery Cells in Parallel, Keyboard, Nominal Battery Voltage, A/V In Connector, Aux. 2 Cam. Min. Equiv. Focal Length, General Extras, Market Regions, Aux. 3 Camera Aperture (W), Camera Placement, Expansion Interfaces, Dual Cellular Network Operation, Aux. Camera Focus, Brand, Device Category, SAR (body), Codename, NFC, Zoom, Released, SIM Card Slot, Protection from solid materials, Supported Galileo service(s), USB, Supported Cellular Bands, Graphical Controller, Aux. 2 Camera Aperture (W), Height, Software Extras, Secondary Display Pixel Density (dot pitch), Aux. 3 Cam. Min. Equiv. Focal Length, Protection from liquids, Sec. Aux. Camera Number of Pixels, Announced, Complementary Phone Services, RAM Capacity (converted), Camera Extra Functions, Built-in gyroscope, Supported Cellular Data Links, Supported BeiDou system (BDS), Sec. SIM Card Slot, Aperture (W), Min. Equiv. Focal Length, Aux. 3 Camera Image Sensor, Non-volatile Memory Interface, Loudspeaker(s), Aux. 4 Camera Image Sensor, Sec. Supported Cellular Data Links, IR, Estimated Battery Life, Aux. Camera Extra Functions, Aux. 3 Camera Number of Pixels, Number of effective pixels, 2nd highest SAR (head), Market Countries, Serial, Aperture (T), Flash, Aux. Camera Aperture (W), CPU Clock, Secondary Camera Number of pixels, Depth, Secondary Camera Placement, CPU, Secondary Camera Focus, Video Recording, Secondary Camera Sensor, Added, Horizontal Full Bezel Width, Immersion into liquids time limit, Display Diagonal, Mass, Pixel Density, Microphone(s), Number of Display Scales, Display Type, Supported GLONASS protocol(s), GPU Clock, Wireless LAN, Model, Secondary Camera Extra Functions, Built-in accelerometer, Bluetooth, Nominal Battery Capacity, Non-volatile Memory Capacity (converted), Aux. Cam. Min. Equiv. Focal Length, Secondary Display Refresh Rate, A/V Out, Focus, Built-in compass, FM Radio Receiver, Operating System, Display Area Utilization, Display Notch, ...]\n",
       "Index: []\n",
       "\n",
       "[0 rows x 136 columns]"
      ]
     },
     "execution_count": 20,
     "metadata": {},
     "output_type": "execute_result"
    }
   ],
   "source": [
    "mean_values"
   ]
  },
  {
   "cell_type": "code",
   "execution_count": null,
   "metadata": {},
   "outputs": [],
   "source": []
  }
 ],
 "metadata": {
  "kernelspec": {
   "display_name": "Python 3",
   "language": "python",
   "name": "python3"
  },
  "language_info": {
   "codemirror_mode": {
    "name": "ipython",
    "version": 3
   },
   "file_extension": ".py",
   "mimetype": "text/x-python",
   "name": "python",
   "nbconvert_exporter": "python",
   "pygments_lexer": "ipython3",
   "version": "3.10.4"
  }
 },
 "nbformat": 4,
 "nbformat_minor": 2
}
