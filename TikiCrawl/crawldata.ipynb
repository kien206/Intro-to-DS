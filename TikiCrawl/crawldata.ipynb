{
 "cells": [
  {
   "cell_type": "code",
   "execution_count": 13,
   "metadata": {},
   "outputs": [
    {
     "data": {
      "text/html": [
       "<div>\n",
       "<style scoped>\n",
       "    .dataframe tbody tr th:only-of-type {\n",
       "        vertical-align: middle;\n",
       "    }\n",
       "\n",
       "    .dataframe tbody tr th {\n",
       "        vertical-align: top;\n",
       "    }\n",
       "\n",
       "    .dataframe thead th {\n",
       "        text-align: right;\n",
       "    }\n",
       "</style>\n",
       "<table border=\"1\" class=\"dataframe\">\n",
       "  <thead>\n",
       "    <tr style=\"text-align: right;\">\n",
       "      <th></th>\n",
       "      <th>name</th>\n",
       "      <th>brand</th>\n",
       "      <th>price</th>\n",
       "      <th>bang_tan_2g</th>\n",
       "      <th>bang_tan_3g</th>\n",
       "      <th>battery_capacity</th>\n",
       "      <th>battery_life</th>\n",
       "      <th>bluetooth</th>\n",
       "      <th>brand.1</th>\n",
       "      <th>brand_country</th>\n",
       "      <th>...</th>\n",
       "      <th>service_highlight_2</th>\n",
       "      <th>service_highlight_3</th>\n",
       "      <th>the_ngoai_toi_da</th>\n",
       "      <th>tinh_nang_camera</th>\n",
       "      <th>vat_taxable</th>\n",
       "      <th>video_call</th>\n",
       "      <th>warranty_form</th>\n",
       "      <th>warranty_time_period</th>\n",
       "      <th>wifi</th>\n",
       "      <th>xem_phim</th>\n",
       "    </tr>\n",
       "  </thead>\n",
       "  <tbody>\n",
       "    <tr>\n",
       "      <th>0</th>\n",
       "      <td>Apple iPhone 15 Pro</td>\n",
       "      <td>Apple</td>\n",
       "      <td>27990000</td>\n",
       "      <td>NaN</td>\n",
       "      <td>NaN</td>\n",
       "      <td>NaN</td>\n",
       "      <td>NaN</td>\n",
       "      <td>NaN</td>\n",
       "      <td>Apple</td>\n",
       "      <td>NaN</td>\n",
       "      <td>...</td>\n",
       "      <td>NaN</td>\n",
       "      <td>NaN</td>\n",
       "      <td>NaN</td>\n",
       "      <td>NaN</td>\n",
       "      <td>Có</td>\n",
       "      <td>NaN</td>\n",
       "      <td>Điện tử</td>\n",
       "      <td>12.0</td>\n",
       "      <td>NaN</td>\n",
       "      <td>NaN</td>\n",
       "    </tr>\n",
       "    <tr>\n",
       "      <th>1</th>\n",
       "      <td>Điện thoại Samsung Galaxy S23 5G (8GB/256GB) -...</td>\n",
       "      <td>Samsung</td>\n",
       "      <td>15290000</td>\n",
       "      <td>NaN</td>\n",
       "      <td>NaN</td>\n",
       "      <td>3900 mAh</td>\n",
       "      <td>NaN</td>\n",
       "      <td>v5.3</td>\n",
       "      <td>Samsung</td>\n",
       "      <td>Hàn Quốc</td>\n",
       "      <td>...</td>\n",
       "      <td>NaN</td>\n",
       "      <td>NaN</td>\n",
       "      <td>NaN</td>\n",
       "      <td>Ảnh Raw\\n-\\nChuyên nghiệp (Pro)\\n-\\nTự động lấ...</td>\n",
       "      <td>Có</td>\n",
       "      <td>Gọi qua ứng dụng Zalo, Messenger,…</td>\n",
       "      <td>Điện tử</td>\n",
       "      <td>12.0</td>\n",
       "      <td>Wi-Fi Direct\\n-\\nDual-band (2.4 GHz/5 GHz)\\n-\\...</td>\n",
       "      <td>MP4\\n-\\n3GP\\n-\\nAVI\\n-\\nMKV\\n-\\nFLV</td>\n",
       "    </tr>\n",
       "    <tr>\n",
       "      <th>2</th>\n",
       "      <td>Điện thoại Xiaomi Redmi Note 12 (4GB/128GB) - ...</td>\n",
       "      <td>Xiaomi</td>\n",
       "      <td>3770000</td>\n",
       "      <td>NaN</td>\n",
       "      <td>NaN</td>\n",
       "      <td>5000</td>\n",
       "      <td>NaN</td>\n",
       "      <td>A2DP,  LE,  v5.1</td>\n",
       "      <td>Xiaomi</td>\n",
       "      <td>NaN</td>\n",
       "      <td>...</td>\n",
       "      <td>NaN</td>\n",
       "      <td>NaN</td>\n",
       "      <td>1 TB</td>\n",
       "      <td>NaN</td>\n",
       "      <td>Có</td>\n",
       "      <td>Có</td>\n",
       "      <td>Điện tử</td>\n",
       "      <td>18.0</td>\n",
       "      <td>Wi-Fi 802.11 a/b/g/n/ac, Dual-band (2.4 GHz/5 ...</td>\n",
       "      <td>NaN</td>\n",
       "    </tr>\n",
       "    <tr>\n",
       "      <th>3</th>\n",
       "      <td>Điện thoại OPPO A58 (6GB/128GB) - Hàng Chính Hãng</td>\n",
       "      <td>OPPO</td>\n",
       "      <td>4150000</td>\n",
       "      <td>NaN</td>\n",
       "      <td>NaN</td>\n",
       "      <td>5000</td>\n",
       "      <td>NaN</td>\n",
       "      <td>v5.3</td>\n",
       "      <td>OPPO</td>\n",
       "      <td>NaN</td>\n",
       "      <td>...</td>\n",
       "      <td>NaN</td>\n",
       "      <td>NaN</td>\n",
       "      <td>1 TB</td>\n",
       "      <td>NaN</td>\n",
       "      <td>Có</td>\n",
       "      <td>NaN</td>\n",
       "      <td>Điện tử</td>\n",
       "      <td>12.0</td>\n",
       "      <td>Wi-Fi Direct,  Wi-Fi 802.11 a/b/g/n/ac,  Wi-Fi...</td>\n",
       "      <td>NaN</td>\n",
       "    </tr>\n",
       "    <tr>\n",
       "      <th>4</th>\n",
       "      <td>Điện thoại Xiaomi Redmi Note 12 (8GB/128GB) - ...</td>\n",
       "      <td>Xiaomi</td>\n",
       "      <td>4370000</td>\n",
       "      <td>NaN</td>\n",
       "      <td>NaN</td>\n",
       "      <td>5000</td>\n",
       "      <td>NaN</td>\n",
       "      <td>A2DP,  LE,  v5.1</td>\n",
       "      <td>Xiaomi</td>\n",
       "      <td>NaN</td>\n",
       "      <td>...</td>\n",
       "      <td>NaN</td>\n",
       "      <td>NaN</td>\n",
       "      <td>1 TB</td>\n",
       "      <td>NaN</td>\n",
       "      <td>Có</td>\n",
       "      <td>Có</td>\n",
       "      <td>Điện tử</td>\n",
       "      <td>18.0</td>\n",
       "      <td>Wi-Fi 802.11 a/b/g/n/ac, Dual-band (2.4 GHz/5 ...</td>\n",
       "      <td>NaN</td>\n",
       "    </tr>\n",
       "  </tbody>\n",
       "</table>\n",
       "<p>5 rows × 65 columns</p>\n",
       "</div>"
      ],
      "text/plain": [
       "                                                name    brand     price  \\\n",
       "0                                Apple iPhone 15 Pro    Apple  27990000   \n",
       "1  Điện thoại Samsung Galaxy S23 5G (8GB/256GB) -...  Samsung  15290000   \n",
       "2  Điện thoại Xiaomi Redmi Note 12 (4GB/128GB) - ...   Xiaomi   3770000   \n",
       "3  Điện thoại OPPO A58 (6GB/128GB) - Hàng Chính Hãng     OPPO   4150000   \n",
       "4  Điện thoại Xiaomi Redmi Note 12 (8GB/128GB) - ...   Xiaomi   4370000   \n",
       "\n",
       "  bang_tan_2g bang_tan_3g battery_capacity battery_life         bluetooth  \\\n",
       "0         NaN         NaN              NaN          NaN               NaN   \n",
       "1         NaN         NaN         3900 mAh          NaN              v5.3   \n",
       "2         NaN         NaN             5000          NaN  A2DP,  LE,  v5.1   \n",
       "3         NaN         NaN             5000          NaN              v5.3   \n",
       "4         NaN         NaN             5000          NaN  A2DP,  LE,  v5.1   \n",
       "\n",
       "   brand.1 brand_country  ... service_highlight_2 service_highlight_3  \\\n",
       "0    Apple           NaN  ...                 NaN                 NaN   \n",
       "1  Samsung      Hàn Quốc  ...                 NaN                 NaN   \n",
       "2   Xiaomi           NaN  ...                 NaN                 NaN   \n",
       "3     OPPO           NaN  ...                 NaN                 NaN   \n",
       "4   Xiaomi           NaN  ...                 NaN                 NaN   \n",
       "\n",
       "  the_ngoai_toi_da                                   tinh_nang_camera  \\\n",
       "0              NaN                                                NaN   \n",
       "1              NaN  Ảnh Raw\\n-\\nChuyên nghiệp (Pro)\\n-\\nTự động lấ...   \n",
       "2             1 TB                                                NaN   \n",
       "3             1 TB                                                NaN   \n",
       "4             1 TB                                                NaN   \n",
       "\n",
       "  vat_taxable                          video_call warranty_form  \\\n",
       "0          Có                                 NaN       Điện tử   \n",
       "1          Có  Gọi qua ứng dụng Zalo, Messenger,…       Điện tử   \n",
       "2          Có                                  Có       Điện tử   \n",
       "3          Có                                 NaN       Điện tử   \n",
       "4          Có                                  Có       Điện tử   \n",
       "\n",
       "  warranty_time_period                                               wifi  \\\n",
       "0                 12.0                                                NaN   \n",
       "1                 12.0  Wi-Fi Direct\\n-\\nDual-band (2.4 GHz/5 GHz)\\n-\\...   \n",
       "2                 18.0  Wi-Fi 802.11 a/b/g/n/ac, Dual-band (2.4 GHz/5 ...   \n",
       "3                 12.0  Wi-Fi Direct,  Wi-Fi 802.11 a/b/g/n/ac,  Wi-Fi...   \n",
       "4                 18.0  Wi-Fi 802.11 a/b/g/n/ac, Dual-band (2.4 GHz/5 ...   \n",
       "\n",
       "                              xem_phim  \n",
       "0                                  NaN  \n",
       "1  MP4\\n-\\n3GP\\n-\\nAVI\\n-\\nMKV\\n-\\nFLV  \n",
       "2                                  NaN  \n",
       "3                                  NaN  \n",
       "4                                  NaN  \n",
       "\n",
       "[5 rows x 65 columns]"
      ]
     },
     "execution_count": 13,
     "metadata": {},
     "output_type": "execute_result"
    }
   ],
   "source": [
    "import pandas as pd\n",
    "df=pd.read_csv(\"tikidata.csv\")\n",
    "df.head(5)"
   ]
  },
  {
   "cell_type": "code",
   "execution_count": 14,
   "metadata": {},
   "outputs": [
    {
     "data": {
      "text/plain": [
       "(355, 65)"
      ]
     },
     "execution_count": 14,
     "metadata": {},
     "output_type": "execute_result"
    }
   ],
   "source": [
    "df.shape"
   ]
  },
  {
   "cell_type": "code",
   "execution_count": 15,
   "metadata": {},
   "outputs": [
    {
     "data": {
      "text/plain": [
       "Index(['name', 'brand', 'price', 'bang_tan_2g', 'bang_tan_3g',\n",
       "       'battery_capacity', 'battery_life', 'bluetooth', 'brand.1',\n",
       "       'brand_country', 'camera_sau', 'camera_truoc', 'cart_slot',\n",
       "       'charge_time', 'chip_do_hoa', 'chip_set', 'chuc_nang_khac',\n",
       "       'connect_khac', 'connect_nfc', 'cpu_speed', 'den_flash', 'dimensions',\n",
       "       'display_type', 'fm_radio', 'ghi_am', 'gps', 'ho_tro_4g', 'ho_tro_5g',\n",
       "       'included_accessories', 'is_authentic', 'is_warranty_applied',\n",
       "       'item_model_number', 'jack_headphone', 'kha_dung', 'khe_sim',\n",
       "       'loai_pin', 'loai_sim', 'luu_y', 'manufacturer_electronics', 'material',\n",
       "       'nghe_nhac', 'organization_address', 'organization_name', 'origin',\n",
       "       'part_number', 'pin_co_the_thao_roi', 'port_sac', 'product_weight',\n",
       "       'quay_phim', 'ram', 'resolution', 'rom', 'screen_size',\n",
       "       'seller_delivery_method', 'service_highlight_1', 'service_highlight_2',\n",
       "       'service_highlight_3', 'the_ngoai_toi_da', 'tinh_nang_camera',\n",
       "       'vat_taxable', 'video_call', 'warranty_form', 'warranty_time_period',\n",
       "       'wifi', 'xem_phim'],\n",
       "      dtype='object')"
      ]
     },
     "execution_count": 15,
     "metadata": {},
     "output_type": "execute_result"
    }
   ],
   "source": [
    "df.columns"
   ]
  },
  {
   "cell_type": "code",
   "execution_count": 16,
   "metadata": {},
   "outputs": [
    {
     "data": {
      "text/plain": [
       "(339, 65)"
      ]
     },
     "execution_count": 16,
     "metadata": {},
     "output_type": "execute_result"
    }
   ],
   "source": [
    "df=df.drop_duplicates()\n",
    "df.shape\n"
   ]
  },
  {
   "cell_type": "code",
   "execution_count": 17,
   "metadata": {},
   "outputs": [
    {
     "data": {
      "text/html": [
       "<div>\n",
       "<style scoped>\n",
       "    .dataframe tbody tr th:only-of-type {\n",
       "        vertical-align: middle;\n",
       "    }\n",
       "\n",
       "    .dataframe tbody tr th {\n",
       "        vertical-align: top;\n",
       "    }\n",
       "\n",
       "    .dataframe thead th {\n",
       "        text-align: right;\n",
       "    }\n",
       "</style>\n",
       "<table border=\"1\" class=\"dataframe\">\n",
       "  <thead>\n",
       "    <tr style=\"text-align: right;\">\n",
       "      <th></th>\n",
       "      <th>price</th>\n",
       "      <th>warranty_time_period</th>\n",
       "    </tr>\n",
       "  </thead>\n",
       "  <tbody>\n",
       "    <tr>\n",
       "      <th>count</th>\n",
       "      <td>3.390000e+02</td>\n",
       "      <td>329.000000</td>\n",
       "    </tr>\n",
       "    <tr>\n",
       "      <th>mean</th>\n",
       "      <td>8.329437e+06</td>\n",
       "      <td>9.844985</td>\n",
       "    </tr>\n",
       "    <tr>\n",
       "      <th>std</th>\n",
       "      <td>8.472869e+06</td>\n",
       "      <td>5.671144</td>\n",
       "    </tr>\n",
       "    <tr>\n",
       "      <th>min</th>\n",
       "      <td>7.690000e+05</td>\n",
       "      <td>1.000000</td>\n",
       "    </tr>\n",
       "    <tr>\n",
       "      <th>25%</th>\n",
       "      <td>3.078000e+06</td>\n",
       "      <td>1.000000</td>\n",
       "    </tr>\n",
       "    <tr>\n",
       "      <th>50%</th>\n",
       "      <td>4.790000e+06</td>\n",
       "      <td>12.000000</td>\n",
       "    </tr>\n",
       "    <tr>\n",
       "      <th>75%</th>\n",
       "      <td>8.667000e+06</td>\n",
       "      <td>12.000000</td>\n",
       "    </tr>\n",
       "    <tr>\n",
       "      <th>max</th>\n",
       "      <td>4.200000e+07</td>\n",
       "      <td>24.000000</td>\n",
       "    </tr>\n",
       "  </tbody>\n",
       "</table>\n",
       "</div>"
      ],
      "text/plain": [
       "              price  warranty_time_period\n",
       "count  3.390000e+02            329.000000\n",
       "mean   8.329437e+06              9.844985\n",
       "std    8.472869e+06              5.671144\n",
       "min    7.690000e+05              1.000000\n",
       "25%    3.078000e+06              1.000000\n",
       "50%    4.790000e+06             12.000000\n",
       "75%    8.667000e+06             12.000000\n",
       "max    4.200000e+07             24.000000"
      ]
     },
     "execution_count": 17,
     "metadata": {},
     "output_type": "execute_result"
    }
   ],
   "source": [
    "df.describe()"
   ]
  },
  {
   "cell_type": "code",
   "execution_count": 18,
   "metadata": {},
   "outputs": [
    {
     "name": "stderr",
     "output_type": "stream",
     "text": [
      "C:\\Users\\MinhHoang\\AppData\\Local\\Temp\\ipykernel_16748\\1134722465.py:1: FutureWarning: The default value of numeric_only in DataFrame.corr is deprecated. In a future version, it will default to False. Select only valid columns or specify the value of numeric_only to silence this warning.\n",
      "  df.corr()\n"
     ]
    },
    {
     "data": {
      "text/html": [
       "<div>\n",
       "<style scoped>\n",
       "    .dataframe tbody tr th:only-of-type {\n",
       "        vertical-align: middle;\n",
       "    }\n",
       "\n",
       "    .dataframe tbody tr th {\n",
       "        vertical-align: top;\n",
       "    }\n",
       "\n",
       "    .dataframe thead th {\n",
       "        text-align: right;\n",
       "    }\n",
       "</style>\n",
       "<table border=\"1\" class=\"dataframe\">\n",
       "  <thead>\n",
       "    <tr style=\"text-align: right;\">\n",
       "      <th></th>\n",
       "      <th>price</th>\n",
       "      <th>warranty_time_period</th>\n",
       "    </tr>\n",
       "  </thead>\n",
       "  <tbody>\n",
       "    <tr>\n",
       "      <th>price</th>\n",
       "      <td>1.000000</td>\n",
       "      <td>-0.233508</td>\n",
       "    </tr>\n",
       "    <tr>\n",
       "      <th>warranty_time_period</th>\n",
       "      <td>-0.233508</td>\n",
       "      <td>1.000000</td>\n",
       "    </tr>\n",
       "  </tbody>\n",
       "</table>\n",
       "</div>"
      ],
      "text/plain": [
       "                         price  warranty_time_period\n",
       "price                 1.000000             -0.233508\n",
       "warranty_time_period -0.233508              1.000000"
      ]
     },
     "execution_count": 18,
     "metadata": {},
     "output_type": "execute_result"
    }
   ],
   "source": [
    "df.corr()"
   ]
  },
  {
   "cell_type": "code",
   "execution_count": 19,
   "metadata": {},
   "outputs": [
    {
     "name": "stderr",
     "output_type": "stream",
     "text": [
      "C:\\Users\\MinhHoang\\AppData\\Local\\Temp\\ipykernel_16748\\1880911715.py:3: FutureWarning: The default value of numeric_only in DataFrame.corr is deprecated. In a future version, it will default to False. Select only valid columns or specify the value of numeric_only to silence this warning.\n",
      "  sns.heatmap(df.corr(), annot=True, cmap='coolwarm')\n"
     ]
    },
    {
     "data": {
      "text/plain": [
       "<AxesSubplot:>"
      ]
     },
     "execution_count": 19,
     "metadata": {},
     "output_type": "execute_result"
    },
    {
     "data": {
      "image/png": "[encoded data removed]",
      "text/plain": [
       "<Figure size 640x480 with 2 Axes>"
      ]
     },
     "metadata": {},
     "output_type": "display_data"
    }
   ],
   "source": [
    "# Plot correlation matrix\n",
    "import seaborn as sns\n",
    "sns.heatmap(df.corr(), annot=True, cmap='coolwarm')"
   ]
  }
 ],
 "metadata": {
  "kernelspec": {
   "display_name": "Python 3",
   "language": "python",
   "name": "python3"
  },
  "language_info": {
   "codemirror_mode": {
    "name": "ipython",
    "version": 3
   },
   "file_extension": ".py",
   "mimetype": "text/x-python",
   "name": "python",
   "nbconvert_exporter": "python",
   "pygments_lexer": "ipython3",
   "version": "3.10.5"
  }
 },
 "nbformat": 4,
 "nbformat_minor": 2
}
